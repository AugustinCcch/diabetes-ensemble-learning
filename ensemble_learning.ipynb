{
 "cells": [
  {
   "cell_type": "code",
   "execution_count": 7,
   "metadata": {},
   "outputs": [],
   "source": [
    "import pandas as pd\n",
    "import numpy as np\n",
    "import matplotlib.pyplot as plt\n",
    "\n",
    "from sklearn.model_selection import train_test_split\n",
    "from sklearn.preprocessing import StandardScaler, PolynomialFeatures\n",
    "from sklearn.metrics import (\n",
    "    f1_score,\n",
    "    confusion_matrix,\n",
    ")\n",
    "\n",
    "from sklearn.ensemble import (\n",
    "    ExtraTreesClassifier,\n",
    "    HistGradientBoostingClassifier,\n",
    "    VotingClassifier,\n",
    ")\n",
    "\n",
    "from xgboost import XGBClassifier\n",
    "from lightgbm import LGBMClassifier\n",
    "from catboost import CatBoostClassifier\n",
    "\n",
    "from imblearn.under_sampling import RandomUnderSampler"
   ]
  },
  {
   "cell_type": "code",
   "execution_count": 8,
   "metadata": {},
   "outputs": [],
   "source": [
    "RANDOM_STATE = 42\n",
    "N_SPLITS = 5"
   ]
  },
  {
   "cell_type": "code",
   "execution_count": 9,
   "metadata": {},
   "outputs": [],
   "source": [
    "# Chargement des données\n",
    "df_data_train = pd.read_csv(\"data/train.csv\").drop(columns=['Unnamed: 0'])\n",
    "df_labels_train = pd.read_csv(\"data/labels.csv\").drop(columns=['Unnamed: 0'])\n",
    "\n",
    "\n",
    "# Fonction de prétraitement\n",
    "def pretraitement(df_data_train, df_labels_train=None):\n",
    "    df_data_train_copy = df_data_train.drop([\"Age_Group\"], axis=1)\n",
    "    df_data_train_copy[\"BMI_Category\"] = df_data_train_copy[\"BMI_Category\"].map(\n",
    "        {'Underweight': 0, 'Normal weight': 1, 'Overweight': 3, 'Obese': 5}\n",
    "    )\n",
    "    df_data_train_copy[\"Education_Level\"] = df_data_train_copy[\"Education_Level\"].map(\n",
    "        {'No High School': 0, 'High School Graduate': 3, 'Some College': 4}\n",
    "    )\n",
    "    df_data_train_copy[\"Income_Group\"] = df_data_train_copy[\"Income_Group\"].map(\n",
    "        {\"Low Income\": 1, \"Middle Income\": 3, \"High Income\": 6}\n",
    "    )\n",
    "\n",
    "    # Polynomial features\n",
    "    continuous_features = [\"BMI\", \"MentHlth\", \"PhysHlth\", \"Age\"]\n",
    "    poly = PolynomialFeatures(degree=2, include_bias=False)\n",
    "    poly_features = poly.fit_transform(df_data_train_copy[continuous_features])\n",
    "\n",
    "    # Add polynomial features\n",
    "    poly_feature_names = [\n",
    "        f\"{name}_poly2\" if \"^2\" in name or \" \" in name else name\n",
    "        for name in poly.get_feature_names_out(continuous_features)\n",
    "    ]\n",
    "    X_poly = pd.DataFrame(\n",
    "        poly_features, columns=poly_feature_names, index=df_data_train_copy.index\n",
    "    )\n",
    "    df_data_train_copy = pd.concat(\n",
    "        [df_data_train_copy, X_poly.loc[:, poly_feature_names[4:]]], axis=1\n",
    "    )\n",
    "\n",
    "    # Clean feature names for LightGBM compatibility\n",
    "    df_data_train_copy.columns = df_data_train_copy.columns.str.replace(\n",
    "        \"[^A-Za-z0-9_]+\", \"\", regex=True\n",
    "    )\n",
    "    df_data_train_copy.fillna(df_data_train_copy.median(), inplace=True)\n",
    "\n",
    "    if df_labels_train is not None:\n",
    "        df_labels_train_copy = df_labels_train\n",
    "        return df_data_train_copy, df_labels_train_copy\n",
    "    return df_data_train_copy\n",
    "\n",
    "\n",
    "# Prétraitement\n",
    "df_data_train_copy, df_labels_train_copy = pretraitement(df_data_train, df_labels_train)\n",
    "\n",
    "#Split des données\n",
    "X_train, X_test, y_train, y_test = train_test_split(\n",
    "    df_data_train_copy,\n",
    "    df_labels_train_copy,\n",
    "    test_size=0.2,\n",
    "    random_state=42,\n",
    "    shuffle=True,\n",
    ")\n",
    "\n",
    "# Normalisation\n",
    "scaler = StandardScaler()\n",
    "X_train = scaler.fit_transform(X_train)\n",
    "X_test = scaler.transform(X_test)\n",
    "\n",
    "# Undersampling\n",
    "rus = RandomUnderSampler(sampling_strategy=0.19, random_state=RANDOM_STATE)\n",
    "X_resampled, y_resampled = rus.fit_resample(X_train, y_train)\n",
    "\n"
   ]
  },
  {
   "cell_type": "code",
   "execution_count": 10,
   "metadata": {},
   "outputs": [
    {
     "name": "stdout",
     "output_type": "stream",
     "text": [
      "\n",
      "Evaluation de l'ensemble sur l'ensemble de test :\n",
      "[[29489  5440]\n",
      " [ 2260  3400]]\n",
      "F1 Score on test: 0.4689655172413793\n"
     ]
    }
   ],
   "source": [
    "LGBM_Elie = LGBMClassifier(\n",
    "    random_state=RANDOM_STATE, force_row_wise=True, class_weight=\"balanced\", verbosity=-1,\n",
    "    objective=\"binary\", learning_rate=0.05, max_depth=20, n_estimators=500,\n",
    "    num_leaves=100, subsample=0.5, reg_alpha=1\n",
    ")\n",
    "\n",
    "xgb_clf = XGBClassifier(\n",
    "    scale_pos_weight=3.0, learning_rate=0.1, max_depth=5, n_estimators=200,\n",
    "    subsample=1.0, eval_metric='logloss', random_state=RANDOM_STATE\n",
    ")\n",
    "\n",
    "catboost_clf = CatBoostClassifier(\n",
    "    class_weights=[1, 2.5], iterations=500, learning_rate=0.1,\n",
    "    depth=6, random_seed=RANDOM_STATE, eval_metric='Logloss', verbose=0\n",
    ")\n",
    "\n",
    "hist_gb_clf = HistGradientBoostingClassifier(\n",
    "    class_weight='balanced',\n",
    "    learning_rate=0.1,\n",
    "    max_iter=200,\n",
    "    max_depth=5,\n",
    "    min_samples_leaf=30,\n",
    "    random_state=RANDOM_STATE\n",
    ")\n",
    "\n",
    "extra_trees_clf = ExtraTreesClassifier(\n",
    "    n_estimators=100, max_depth=None, min_samples_split=2, random_state=RANDOM_STATE,\n",
    "    class_weight='balanced'\n",
    ")\n",
    "\n",
    "# Création de l'ensemble (VotingClassifier)\n",
    "ensemble_model = VotingClassifier(\n",
    "    estimators=[\n",
    "        ('lightgbm', LGBM_Elie),\n",
    "        ('xgboost', xgb_clf),\n",
    "        ('catboost', catboost_clf),\n",
    "        ('hist_gradient_boosting', hist_gb_clf),\n",
    "        ('extra_trees', extra_trees_clf),         \n",
    "    ],\n",
    "    voting='soft',\n",
    "    weights=[1, 1.95, 2.15, 1.05, 1]\n",
    ")\n",
    "\n",
    "ensemble_model.fit(X_resampled, y_resampled.values.ravel())\n",
    "\n",
    "y_test_pred = ensemble_model.predict(X_test)\n",
    "\n",
    "print(\"\\nEvaluation de l'ensemble sur l'ensemble de test :\")\n",
    "print(confusion_matrix(y_test, y_test_pred))\n",
    "print(\"F1 Score on test:\", f1_score(y_test, y_test_pred))"
   ]
  },
  {
   "cell_type": "code",
   "execution_count": 11,
   "metadata": {},
   "outputs": [
    {
     "name": "stdout",
     "output_type": "stream",
     "text": [
      "Best Threshold: 0.5040000000000002\n",
      "Best F1 Score: 0.4699248120300752\n",
      "Confusion Matrix at Optimal Threshold:\n",
      "[[29600  5329]\n",
      " [ 2285  3375]]\n"
     ]
    },
    {
     "data": {
      "image/png": "[encoded data removed]",
      "text/plain": [
       "<Figure size 800x150 with 1 Axes>"
      ]
     },
     "metadata": {},
     "output_type": "display_data"
    }
   ],
   "source": [
    "y_test_pred = ensemble_model.predict_proba(X_test)[:, 1]\n",
    "# Test various thresholds\n",
    "thresholds = np.arange(0.3, 0.7, 0.001)\n",
    "f1_scores = [f1_score(y_test, (y_test_pred >= t).astype(int)) for t in thresholds]\n",
    "\n",
    "# Find the best threshold based on F1 score\n",
    "best_threshold = thresholds[np.argmax(f1_scores)]\n",
    "print(\"Best Threshold:\", best_threshold)\n",
    "print(\"Best F1 Score:\", max(f1_scores))\n",
    "\n",
    "y_test_pred_optimal = (y_test_pred >= best_threshold).astype(int)\n",
    "\n",
    "conf_matrix = confusion_matrix(y_test, y_test_pred_optimal)\n",
    "print(\"Confusion Matrix at Optimal Threshold:\")\n",
    "print(conf_matrix)\n",
    "\n",
    "plt.figure(figsize=(8, 1.5))\n",
    "plt.plot(thresholds, f1_scores)\n",
    "plt.axvline(x=best_threshold, color='r', linestyle='--')\n",
    "plt.grid(True)\n",
    "plt.show()"
   ]
  },
  {
   "cell_type": "code",
   "execution_count": 12,
   "metadata": {},
   "outputs": [
    {
     "name": "stdout",
     "output_type": "stream",
     "text": [
      "Ratio of 1's: 0.2194\n"
     ]
    }
   ],
   "source": [
    "data_test = pd.read_csv('data/test.csv')\n",
    "\n",
    "test_index = data_test[\"Unnamed: 0\"]\n",
    "data_test = data_test.drop(columns=[\"Unnamed: 0\"])\n",
    "\n",
    "df_data_test_copy = pretraitement(data_test, None)\n",
    "scaler_test = StandardScaler()\n",
    "\n",
    "df_data_test_copy = scaler.transform(\n",
    "    df_data_test_copy\n",
    ")\n",
    "y_pred_test_proba = ensemble_model.predict_proba(df_data_test_copy)[:, 1]\n",
    "y_pred_test = (y_pred_test_proba >= best_threshold).astype(int)\n",
    "\n",
    "submission = pd.DataFrame({\n",
    "    \"index\": test_index,  \n",
    "    \"Diabetes_binary\": y_pred_test\n",
    "})\n",
    "\n",
    "count_1 = submission[\"Diabetes_binary\"].value_counts().get(1, 0)\n",
    "total = len(y_pred_test)\n",
    "ratio_1 = count_1 / total\n",
    "print(f\"Ratio of 1's: {ratio_1:.4f}\")\n",
    "\n",
    "submission.to_csv(\"soumission.csv\", index=False)"
   ]
  }
 ],
 "metadata": {
  "kernelspec": {
   "display_name": "Python 3",
   "language": "python",
   "name": "python3"
  },
  "language_info": {
   "codemirror_mode": {
    "name": "ipython",
    "version": 3
   },
   "file_extension": ".py",
   "mimetype": "text/x-python",
   "name": "python",
   "nbconvert_exporter": "python",
   "pygments_lexer": "ipython3",
   "version": "3.11.5"
  }
 },
 "nbformat": 4,
 "nbformat_minor": 2
}
